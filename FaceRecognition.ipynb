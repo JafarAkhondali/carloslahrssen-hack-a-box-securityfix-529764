{
 "cells": [
  {
   "cell_type": "code",
   "execution_count": 12,
   "metadata": {},
   "outputs": [],
   "source": [
    "import json\n",
    "from clarifai.rest import ClarifaiApp\n",
    "import numpy as np\n",
    "import os"
   ]
  },
  {
   "cell_type": "code",
   "execution_count": 13,
   "metadata": {},
   "outputs": [],
   "source": [
    "os.environ[\"CLARIFAI_API_KEY\"] = \"cde1899c377b4ad3827788d69eaa6ef8\""
   ]
  },
  {
   "cell_type": "code",
   "execution_count": 14,
   "metadata": {
    "collapsed": true
   },
   "outputs": [],
   "source": [
    "app = ClarifaiApp()\n",
    "model = app.models.get(\"d02b4508df58432fbb84e800597b8959\")"
   ]
  },
  {
   "cell_type": "code",
   "execution_count": 15,
   "metadata": {
    "collapsed": true
   },
   "outputs": [],
   "source": [
    "kunalPhoto = \"http://imageshack.com/a/img922/6780/2ceUHj.jpg\"\n",
    "momPhoto = \"http://imageshack.com/a/img922/2448/tvuLfa.jpg\"\n",
    "dadPhoto = \"http://imageshack.com/a/img923/1862/G1VINZ.png\""
   ]
  },
  {
   "cell_type": "code",
   "execution_count": 16,
   "metadata": {
    "collapsed": true
   },
   "outputs": [],
   "source": [
    "def getEmbedding(image_url):\n",
    "    # Call the Face Embedding Model\n",
    "    jsonTags = model.predict_by_url(url=image_url)\n",
    "\n",
    "    # Storage for all the vectors in a given photo\n",
    "    faceEmbed = []\n",
    "\n",
    "    # Iterate through every person and store each face embedding in an array\n",
    "    for faces in jsonTags['outputs'][0]['data']['regions']:\n",
    "        for face in faces['data']['embeddings']:\n",
    "            embeddingVector = face['vector']\n",
    "            faceEmbed.append(embeddingVector)\n",
    "    return faceEmbed[0]"
   ]
  },
  {
   "cell_type": "code",
   "execution_count": 18,
   "metadata": {},
   "outputs": [],
   "source": [
    "# Get embeddings and put them in an array format that Numpy can use\n",
    "kunalEmbedding = np.array(getEmbedding(kunalPhoto))\n",
    "momEmbedding = np.array(getEmbedding(momPhoto))\n",
    "dadEmbedding = np.array(getEmbedding(dadPhoto))\n"
   ]
  },
  {
   "cell_type": "code",
   "execution_count": 23,
   "metadata": {},
   "outputs": [
    {
     "name": "stdout",
     "output_type": "stream",
     "text": [
      "Mom Distance: 0.0\n",
      "Dad Distance: 1.0664165046109029\n"
     ]
    }
   ],
   "source": [
    "# Get Distances useing Numpy\n",
    "momDistance = np.linalg.norm(momEmbedding-momEmbedding)\n",
    "print (\"Mom Distance: \"+str(momDistance))\n",
    "\n",
    "dadDistance = np.linalg.norm(kunalEmbedding-dadEmbedding)\n",
    "print (\"Dad Distance: \"+str(dadDistance))"
   ]
  },
  {
   "cell_type": "code",
   "execution_count": null,
   "metadata": {
    "collapsed": true
   },
   "outputs": [],
   "source": []
  }
 ],
 "metadata": {
  "kernelspec": {
   "display_name": "Python 3",
   "language": "python",
   "name": "python3"
  },
  "language_info": {
   "codemirror_mode": {
    "name": "ipython",
    "version": 3
   },
   "file_extension": ".py",
   "mimetype": "text/x-python",
   "name": "python",
   "nbconvert_exporter": "python",
   "pygments_lexer": "ipython3",
   "version": "3.6.3"
  },
  "varInspector": {
   "cols": {
    "lenName": 16,
    "lenType": 16,
    "lenVar": 40
   },
   "kernels_config": {
    "python": {
     "delete_cmd_postfix": "",
     "delete_cmd_prefix": "del ",
     "library": "var_list.py",
     "varRefreshCmd": "print(var_dic_list())"
    },
    "r": {
     "delete_cmd_postfix": ") ",
     "delete_cmd_prefix": "rm(",
     "library": "var_list.r",
     "varRefreshCmd": "cat(var_dic_list()) "
    }
   },
   "types_to_exclude": [
    "module",
    "function",
    "builtin_function_or_method",
    "instance",
    "_Feature"
   ],
   "window_display": false
  }
 },
 "nbformat": 4,
 "nbformat_minor": 2
}
